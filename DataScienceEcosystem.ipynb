{
 "cells": [
  {
   "cell_type": "markdown",
   "id": "b34631d0-dde9-4bb7-904d-9b0e4453a480",
   "metadata": {},
   "source": [
    "<h1>Data Science Tools and Ecosystem</h1>"
   ]
  },
  {
   "cell_type": "markdown",
   "id": "d7a15ead-5b77-4089-a710-dcacc59ee55a",
   "metadata": {},
   "source": [
    "In this notebook, Data Science Tools and Ecosystem are summarized."
   ]
  },
  {
   "cell_type": "markdown",
   "id": "c3fe7976-f059-4db5-a913-e3fbabfec6e7",
   "metadata": {},
   "source": [
    "<strong>Objectives:</strong>\n",
    "<ul>\n",
    "    <li>List Some of the popular languages that Data Scientists use in a ordered list</li>\n",
    "    <li>List Data Science Tools in a table</li>\n",
    "    <li>List Objectives in an unordered list</li>\n",
    "</ul>"
   ]
  },
  {
   "cell_type": "markdown",
   "id": "c6ce9b13-cad4-4c1a-ac7c-9210b15767f0",
   "metadata": {},
   "source": [
    "Some of the popular languages that Data Scientists use are:\n",
    "<ol>\n",
    "    <li>Python - Great for data analysis and machine learning.</li>\n",
    "<li>R - Good for statistics and data visualization.</li>\n",
    "<li>SQL - Used to manage and query databases.</li>\n",
    "<li>Java - Sometimes used for big data projects.</li>\n",
    "<li>Scala - Often used with big data tools like Apache Spark.</li>\n",
    "<li>Julia - Known for fast numerical computing.</li>\n",
    "<li>MATLAB - Used for data analysis, especially in engineering.</li>\n",
    "</ol>"
   ]
  },
  {
   "cell_type": "markdown",
   "id": "74cb6370-4bb6-4c99-a964-45b1da4de7df",
   "metadata": {},
   "source": [
    "Some of the commonly used libraries used by Data Scientists include:\n",
    "<ol>\n",
    "    <li>Pandas - For handling and analyzing data in tables.</li>\n",
    "    <li>NumPy - For working with numbers and arrays.</li>\n",
    "    <li>Matplotlib - For creating graphs and visualizations.</li>\n",
    "</ol>"
   ]
  },
  {
   "cell_type": "markdown",
   "id": "b7744f0d-9ef5-4a5b-9d24-c920f295731c",
   "metadata": {},
   "source": [
    "<table style=\"float:left\">\n",
    "    <tr><th>Data Science Tools</th></tr>\n",
    "    <tr><td>Jupyter Notebook</td></tr>\n",
    "    <tr><td>RStudio</td></tr>\n",
    "    <tr><td>Apache Zeppelin</td></tr>\n",
    "</table>"
   ]
  },
  {
   "cell_type": "markdown",
   "id": "79ffe696-7982-46e3-b909-0905f724adf1",
   "metadata": {},
   "source": [
    "<h3>Below are a few examples of evaluating arithmetic expressions in Python.</h3>"
   ]
  },
  {
   "cell_type": "code",
   "execution_count": 5,
   "id": "3686d4fd-d8b8-4454-933e-7f5ef3fc2d9b",
   "metadata": {},
   "outputs": [
    {
     "data": {
      "text/plain": [
       "17"
      ]
     },
     "execution_count": 5,
     "metadata": {},
     "output_type": "execute_result"
    }
   ],
   "source": [
    "# This a simple arithmetic expression to mutiply then add integers.\n",
    "(3*4)+5"
   ]
  },
  {
   "cell_type": "code",
   "execution_count": 6,
   "id": "5be20713-5f37-4cbe-92ba-a1709ccd5914",
   "metadata": {},
   "outputs": [
    {
     "data": {
      "text/plain": [
       "3.3333333333333335"
      ]
     },
     "execution_count": 6,
     "metadata": {},
     "output_type": "execute_result"
    }
   ],
   "source": [
    "# This will convert 200 minutes to hours by diving by 60\n",
    "200/60"
   ]
  },
  {
   "cell_type": "markdown",
   "id": "432ee02b-bf09-4bf8-8982-6273968ea36f",
   "metadata": {},
   "source": [
    "<h2>Author</h2>\n",
    "César Hinojosa"
   ]
  },
  {
   "cell_type": "code",
   "execution_count": null,
   "id": "54fff2f2-2081-4a39-bd7c-837c6e57571c",
   "metadata": {},
   "outputs": [],
   "source": []
  }
 ],
 "metadata": {
  "kernelspec": {
   "display_name": "Python 3 (ipykernel)",
   "language": "python",
   "name": "python3"
  },
  "language_info": {
   "codemirror_mode": {
    "name": "ipython",
    "version": 3
   },
   "file_extension": ".py",
   "mimetype": "text/x-python",
   "name": "python",
   "nbconvert_exporter": "python",
   "pygments_lexer": "ipython3",
   "version": "3.11.9"
  }
 },
 "nbformat": 4,
 "nbformat_minor": 5
}
